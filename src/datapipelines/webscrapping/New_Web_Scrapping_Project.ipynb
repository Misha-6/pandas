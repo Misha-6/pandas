{
 "cells": [
  {
   "cell_type": "code",
   "execution_count": 1,
   "id": "7a0126d8",
   "metadata": {},
   "outputs": [],
   "source": [
    "import pandas as pd"
   ]
  },
  {
   "cell_type": "code",
   "execution_count": 2,
   "id": "c274778b",
   "metadata": {},
   "outputs": [],
   "source": [
    "import requests as req"
   ]
  },
  {
   "cell_type": "code",
   "execution_count": 4,
   "id": "f2bac541",
   "metadata": {},
   "outputs": [
    {
     "name": "stdout",
     "output_type": "stream",
     "text": [
      "Requirement already satisfied: requests in c:\\users\\ankit\\anaconda3\\lib\\site-packages (2.26.0)"
     ]
    },
    {
     "name": "stderr",
     "output_type": "stream",
     "text": [
      "ERROR: pip's dependency resolver does not currently take into account all the packages that are installed. This behaviour is the source of the following dependency conflicts.\n",
      "conda-repo-cli 1.0.4 requires pathlib, which is not installed.\n",
      "anaconda-project 0.10.1 requires ruamel-yaml, which is not installed.\n"
     ]
    },
    {
     "name": "stdout",
     "output_type": "stream",
     "text": [
      "\n",
      "Collecting requests\n",
      "  Downloading requests-2.27.1-py2.py3-none-any.whl (63 kB)\n",
      "Requirement already satisfied: idna<4,>=2.5 in c:\\users\\ankit\\anaconda3\\lib\\site-packages (from requests) (3.2)\n",
      "Requirement already satisfied: charset-normalizer~=2.0.0 in c:\\users\\ankit\\anaconda3\\lib\\site-packages (from requests) (2.0.4)\n",
      "Requirement already satisfied: urllib3<1.27,>=1.21.1 in c:\\users\\ankit\\anaconda3\\lib\\site-packages (from requests) (1.26.7)\n",
      "Requirement already satisfied: certifi>=2017.4.17 in c:\\users\\ankit\\anaconda3\\lib\\site-packages (from requests) (2021.10.8)\n",
      "Installing collected packages: requests\n",
      "  Attempting uninstall: requests\n",
      "    Found existing installation: requests 2.26.0\n",
      "    Uninstalling requests-2.26.0:\n",
      "      Successfully uninstalled requests-2.26.0\n",
      "Successfully installed requests-2.27.1\n"
     ]
    }
   ],
   "source": [
    "! pip install requests --upgrade"
   ]
  },
  {
   "cell_type": "code",
   "execution_count": 5,
   "id": "c9848fc6",
   "metadata": {},
   "outputs": [
    {
     "name": "stdout",
     "output_type": "stream",
     "text": [
      "Collecting selenium\n",
      "  Downloading selenium-4.1.0-py3-none-any.whl (958 kB)\n",
      "Requirement already satisfied: urllib3[secure]~=1.26 in c:\\users\\ankit\\anaconda3\\lib\\site-packages (from selenium) (1.26.7)\n",
      "Collecting trio~=0.17\n",
      "  Downloading trio-0.19.0-py3-none-any.whl (356 kB)\n",
      "Collecting trio-websocket~=0.9\n",
      "  Downloading trio_websocket-0.9.2-py3-none-any.whl (16 kB)\n",
      "Requirement already satisfied: sortedcontainers in c:\\users\\ankit\\anaconda3\\lib\\site-packages (from trio~=0.17->selenium) (2.4.0)\n",
      "Requirement already satisfied: idna in c:\\users\\ankit\\anaconda3\\lib\\site-packages (from trio~=0.17->selenium) (3.2)\n",
      "Collecting outcome\n",
      "  Downloading outcome-1.1.0-py2.py3-none-any.whl (9.7 kB)\n",
      "Requirement already satisfied: attrs>=19.2.0 in c:\\users\\ankit\\anaconda3\\lib\\site-packages (from trio~=0.17->selenium) (21.2.0)\n",
      "Requirement already satisfied: async-generator>=1.9 in c:\\users\\ankit\\anaconda3\\lib\\site-packages (from trio~=0.17->selenium) (1.10)\n",
      "Requirement already satisfied: sniffio in c:\\users\\ankit\\anaconda3\\lib\\site-packages (from trio~=0.17->selenium) (1.2.0)\n",
      "Requirement already satisfied: cffi>=1.14 in c:\\users\\ankit\\anaconda3\\lib\\site-packages (from trio~=0.17->selenium) (1.14.6)\n",
      "Requirement already satisfied: pycparser in c:\\users\\ankit\\anaconda3\\lib\\site-packages (from cffi>=1.14->trio~=0.17->selenium) (2.20)\n",
      "Collecting wsproto>=0.14\n",
      "  Downloading wsproto-1.0.0-py3-none-any.whl (24 kB)\n",
      "Requirement already satisfied: pyOpenSSL>=0.14 in c:\\users\\ankit\\anaconda3\\lib\\site-packages (from urllib3[secure]~=1.26->selenium) (21.0.0)\n",
      "Requirement already satisfied: cryptography>=1.3.4 in c:\\users\\ankit\\anaconda3\\lib\\site-packages (from urllib3[secure]~=1.26->selenium) (3.4.8)\n",
      "Requirement already satisfied: certifi in c:\\users\\ankit\\anaconda3\\lib\\site-packages (from urllib3[secure]~=1.26->selenium) (2021.10.8)\n",
      "Requirement already satisfied: six>=1.5.2 in c:\\users\\ankit\\anaconda3\\lib\\site-packages (from pyOpenSSL>=0.14->urllib3[secure]~=1.26->selenium) (1.16.0)\n",
      "Collecting h11<1,>=0.9.0\n",
      "  Downloading h11-0.13.0-py3-none-any.whl (58 kB)\n",
      "Installing collected packages: outcome, h11, wsproto, trio, trio-websocket, selenium\n",
      "Successfully installed h11-0.13.0 outcome-1.1.0 selenium-4.1.0 trio-0.19.0 trio-websocket-0.9.2 wsproto-1.0.0\n"
     ]
    }
   ],
   "source": [
    "! pip install selenium"
   ]
  },
  {
   "cell_type": "code",
   "execution_count": 6,
   "id": "24f640fa",
   "metadata": {},
   "outputs": [
    {
     "name": "stdout",
     "output_type": "stream",
     "text": [
      "Collecting webdriver-manager\n",
      "  Downloading webdriver_manager-3.5.2-py2.py3-none-any.whl (17 kB)\n",
      "Collecting crayons\n",
      "  Downloading crayons-0.4.0-py2.py3-none-any.whl (4.6 kB)\n",
      "Requirement already satisfied: requests in c:\\users\\ankit\\anaconda3\\lib\\site-packages (from webdriver-manager) (2.27.1)\n",
      "Collecting configparser\n",
      "  Downloading configparser-5.2.0-py3-none-any.whl (19 kB)\n",
      "Requirement already satisfied: colorama in c:\\users\\ankit\\anaconda3\\lib\\site-packages (from crayons->webdriver-manager) (0.4.4)\n",
      "Requirement already satisfied: certifi>=2017.4.17 in c:\\users\\ankit\\anaconda3\\lib\\site-packages (from requests->webdriver-manager) (2021.10.8)\n",
      "Requirement already satisfied: idna<4,>=2.5 in c:\\users\\ankit\\anaconda3\\lib\\site-packages (from requests->webdriver-manager) (3.2)\n",
      "Requirement already satisfied: charset-normalizer~=2.0.0 in c:\\users\\ankit\\anaconda3\\lib\\site-packages (from requests->webdriver-manager) (2.0.4)\n",
      "Requirement already satisfied: urllib3<1.27,>=1.21.1 in c:\\users\\ankit\\anaconda3\\lib\\site-packages (from requests->webdriver-manager) (1.26.7)\n",
      "Installing collected packages: crayons, configparser, webdriver-manager\n",
      "Successfully installed configparser-5.2.0 crayons-0.4.0 webdriver-manager-3.5.2\n"
     ]
    }
   ],
   "source": [
    "! pip install webdriver-manager"
   ]
  },
  {
   "cell_type": "code",
   "execution_count": 7,
   "id": "dade94df",
   "metadata": {},
   "outputs": [],
   "source": [
    "wildlife_url = 'https://www.worldwildlife.org/species'"
   ]
  },
  {
   "cell_type": "code",
   "execution_count": 9,
   "id": "d4081222",
   "metadata": {},
   "outputs": [],
   "source": [
    "resp_data = req.get(wildlife_url)"
   ]
  },
  {
   "cell_type": "code",
   "execution_count": 10,
   "id": "f983c250",
   "metadata": {},
   "outputs": [
    {
     "data": {
      "text/plain": [
       "200"
      ]
     },
     "execution_count": 10,
     "metadata": {},
     "output_type": "execute_result"
    }
   ],
   "source": [
    "resp_data.status_code"
   ]
  },
  {
   "cell_type": "code",
   "execution_count": 12,
   "id": "91cc50b1",
   "metadata": {},
   "outputs": [
    {
     "data": {
      "text/plain": [
       "125141"
      ]
     },
     "execution_count": 12,
     "metadata": {},
     "output_type": "execute_result"
    }
   ],
   "source": [
    "len(resp_data.text)"
   ]
  },
  {
   "cell_type": "code",
   "execution_count": 14,
   "id": "bf420138",
   "metadata": {},
   "outputs": [
    {
     "data": {
      "text/plain": [
       "'<!DOCTYPE html>\\n<html class=\"js\" lang=\"en\">\\n<head>\\n\\t<title>Species | Protecting Wildlife | World Wildlife Fund</title>\\n\\t<meta charset=\"utf-8\">\\n<script type=\"text/javascript\">window.NREUM||(NREUM={});NREUM.info={\"beacon\":\"bam-cell.nr-data.net\",\"errorBeacon\":\"bam-cell.nr-data.net\",\"licenseKey\":\"6990b25c83\",\"applicationID\":\"3688396\",\"transactionName\":\"cAteQhZdWFUGER1FSVYHWVMXHV1XBwZK\",\"queueTime\":0,\"applicationTime\":14,\"agent\":\"\"}</script>\\n<script type=\"text/javascript\">(window.NREUM||(NREUM={})).init={ajax:{deny_list:[\"bam-cell.nr-data.net\"]}};(window.NREUM||(NREUM={})).loader_config={xpid:\"UwMEVFZRGwAGXFlRDgc=\",licenseKey:\"6990b25c83\",applicationID:\"3688396\"};window.NREUM||(NREUM={}),__nr_require=function(t,e,n){function r(n){if(!e[n]){var i=e[n]={exports:{}};t[n][0].call(i.exports,function(e){var i=t[n][1][e];return r(i||e)},i,i.exports)}return e[n].exports}if(\"function\"==typeof __nr_require)return __nr_require;for(var i=0;i<n.length;i++)r(n[i]);return r}({1:[function(t,e,n){function r'"
      ]
     },
     "execution_count": 14,
     "metadata": {},
     "output_type": "execute_result"
    }
   ],
   "source": [
    "resp_data.text[:1000]"
   ]
  },
  {
   "cell_type": "code",
   "execution_count": 15,
   "id": "2bb7697c",
   "metadata": {},
   "outputs": [],
   "source": [
    "with open('Wildlife_Species_page.html','w') as f:\n",
    "    f.write(resp_data.text)"
   ]
  },
  {
   "cell_type": "code",
   "execution_count": 16,
   "id": "76bc6482",
   "metadata": {},
   "outputs": [
    {
     "name": "stderr",
     "output_type": "stream",
     "text": [
      "python: can't open file 'C:\\Users\\Ankit\\get-pip.py': [Errno 2] No such file or directory\n"
     ]
    }
   ],
   "source": [
    "!python get-pip.py"
   ]
  },
  {
   "cell_type": "code",
   "execution_count": 17,
   "id": "3336d54a",
   "metadata": {},
   "outputs": [
    {
     "name": "stdout",
     "output_type": "stream",
     "text": [
      "Requirement already satisfied: beautifulsoup4 in c:\\users\\ankit\\anaconda3\\lib\\site-packages (4.10.0)\n",
      "Requirement already satisfied: soupsieve>1.2 in c:\\users\\ankit\\anaconda3\\lib\\site-packages (from beautifulsoup4) (2.2.1)\n"
     ]
    }
   ],
   "source": [
    "! pip install beautifulsoup4"
   ]
  },
  {
   "cell_type": "code",
   "execution_count": 19,
   "id": "0f8438ae",
   "metadata": {},
   "outputs": [],
   "source": [
    "from bs4 import BeautifulSoup"
   ]
  },
  {
   "cell_type": "code",
   "execution_count": 23,
   "id": "ea72b760",
   "metadata": {},
   "outputs": [],
   "source": [
    "doc = BeautifulSoup(resp_data.text, 'html.parser')"
   ]
  },
  {
   "cell_type": "code",
   "execution_count": 24,
   "id": "e54417bd",
   "metadata": {},
   "outputs": [
    {
     "data": {
      "text/plain": [
       "bs4.BeautifulSoup"
      ]
     },
     "execution_count": 24,
     "metadata": {},
     "output_type": "execute_result"
    }
   ],
   "source": [
    "type(doc)"
   ]
  },
  {
   "cell_type": "code",
   "execution_count": 42,
   "id": "ddabe00d",
   "metadata": {},
   "outputs": [],
   "source": [
    "animal_span_tags = doc.find_all('figure')"
   ]
  },
  {
   "cell_type": "code",
   "execution_count": 43,
   "id": "782cc5d3",
   "metadata": {},
   "outputs": [
    {
     "data": {
      "text/plain": [
       "15"
      ]
     },
     "execution_count": 43,
     "metadata": {},
     "output_type": "execute_result"
    }
   ],
   "source": [
    "len(animal_span_tags)"
   ]
  },
  {
   "cell_type": "code",
   "execution_count": 44,
   "id": "6e2d06cd",
   "metadata": {},
   "outputs": [
    {
     "data": {
      "text/plain": [
       "[<figure>\n",
       " <a data-track-event=\"Species Index|Species Mosaic Click|Tiger\" href=\"/species/tiger\">\n",
       " <div data-alt=\"\" data-picture=\"\">\n",
       " <div data-src=\"https://files.worldwildlife.org/wwfcmsprod/images/tigers_priority_77221825.jpg/priority_species_vert/5jpzsruzta_tigers_priority_77221825.jpg\"></div>\n",
       " <div data-media=\"(max-width: 767px)\" data-src=\"https://files.worldwildlife.org/wwfcmsprod/images/tigers_priority_77221825.jpg/priority_species/2eu0hrmy8t_tigers_priority_77221825.jpg\"></div>\n",
       " <noscript>\n",
       " <img src=\"https://files.worldwildlife.org/wwfcmsprod/images/tigers_priority_77221825.jpg/priority_species/2eu0hrmy8t_tigers_priority_77221825.jpg\"/>\n",
       " </noscript>\n",
       " </div>\n",
       " <span class=\"wwf name\">\n",
       " <b>\n",
       " \t\t\t\t\t\t\t\tTiger\n",
       "                 <svg aria-hidden=\"true\" class=\"svg-icon\" fill=\"none\" viewbox=\"0 0 24 24\" xmlns=\"http://www.w3.org/2000/svg\">\n",
       " <path d=\"M15.67 11.24L9.8 5.34A.98.98 0 009.03 5c-.3 0-.54.11-.74.33-.2.2-.29.45-.29.75s.1.55.3.78l5.12 5.16-5.13 5.16c-.2.2-.29.46-.29.78A1.01 1.01 0 009.03 19c.32 0 .58-.1.78-.3l5.86-5.9c.22-.22.33-.48.33-.78 0-.3-.11-.56-.33-.78z\"></path>\n",
       " </svg>\n",
       " </b>\n",
       " </span>\n",
       " </a> </figure>,\n",
       " <figure>\n",
       " <a data-track-event=\"Species Index|Species Mosaic Click|Polar Bear\" href=\"/species/polar-bear\">\n",
       " <div data-alt=\"\" data-picture=\"\">\n",
       " <div data-src=\"https://files.worldwildlife.org/wwfcmsprod/images/Polar_Bear/priority_species_small/2ac4lng1yk_Polar_Bear_Threats_Image3_202798.jpg\"></div>\n",
       " <div data-media=\"(max-width: 767px)\" data-src=\"https://files.worldwildlife.org/wwfcmsprod/images/Polar_Bear/priority_species/5xuyicvdin_Polar_Bear_Threats_Image3_202798.jpg\"></div>\n",
       " <noscript>\n",
       " <img src=\"https://files.worldwildlife.org/wwfcmsprod/images/Polar_Bear/priority_species/5xuyicvdin_Polar_Bear_Threats_Image3_202798.jpg\"/>\n",
       " </noscript>\n",
       " </div>\n",
       " <span class=\"wwf name\">\n",
       " <b>\n",
       " \t\t\t\t\t\t\t\tPolar Bear\n",
       "                 <svg aria-hidden=\"true\" class=\"svg-icon\" fill=\"none\" viewbox=\"0 0 24 24\" xmlns=\"http://www.w3.org/2000/svg\">\n",
       " <path d=\"M15.67 11.24L9.8 5.34A.98.98 0 009.03 5c-.3 0-.54.11-.74.33-.2.2-.29.45-.29.75s.1.55.3.78l5.12 5.16-5.13 5.16c-.2.2-.29.46-.29.78A1.01 1.01 0 009.03 19c.32 0 .58-.1.78-.3l5.86-5.9c.22-.22.33-.48.33-.78 0-.3-.11-.56-.33-.78z\"></path>\n",
       " </svg>\n",
       " </b>\n",
       " </span>\n",
       " </a> </figure>,\n",
       " <figure>\n",
       " <a data-track-event=\"Species Index|Species Mosaic Click|Giant Panda\" href=\"/species/giant-panda\">\n",
       " <div data-alt=\"\" data-picture=\"\">\n",
       " <div data-src=\"https://files.worldwildlife.org/wwfcmsprod/images/Giant_Panda/priority_species_large/2nnccurzkr_giant_panda_shutterstock_86500690.jpg\"></div>\n",
       " <div data-media=\"(max-width: 767px)\" data-src=\"https://files.worldwildlife.org/wwfcmsprod/images/Giant_Panda/priority_species/63zhr2n32n_giant_panda_shutterstock_86500690.jpg\"></div>\n",
       " <noscript>\n",
       " <img src=\"https://files.worldwildlife.org/wwfcmsprod/images/Giant_Panda/priority_species/63zhr2n32n_giant_panda_shutterstock_86500690.jpg\"/>\n",
       " </noscript>\n",
       " </div>\n",
       " <span class=\"wwf name\">\n",
       " <b>\n",
       " \t\t\t\t\t\t\t\tGiant Panda\n",
       "                 <svg aria-hidden=\"true\" class=\"svg-icon\" fill=\"none\" viewbox=\"0 0 24 24\" xmlns=\"http://www.w3.org/2000/svg\">\n",
       " <path d=\"M15.67 11.24L9.8 5.34A.98.98 0 009.03 5c-.3 0-.54.11-.74.33-.2.2-.29.45-.29.75s.1.55.3.78l5.12 5.16-5.13 5.16c-.2.2-.29.46-.29.78A1.01 1.01 0 009.03 19c.32 0 .58-.1.78-.3l5.86-5.9c.22-.22.33-.48.33-.78 0-.3-.11-.56-.33-.78z\"></path>\n",
       " </svg>\n",
       " </b>\n",
       " </span>\n",
       " </a> </figure>,\n",
       " <figure>\n",
       " <a data-track-event=\"Species Index|Species Mosaic Click|Amur Leopard\" href=\"/species/amur-leopard\">\n",
       " <div data-alt=\"\" data-picture=\"\">\n",
       " <div data-src=\"https://files.worldwildlife.org/wwfcmsprod/images/Amur_Leopard/priority_species_vert/4ldi3l93t9_amur_leopard_87883936.jpg\"></div>\n",
       " <div data-media=\"(max-width: 767px)\" data-src=\"https://files.worldwildlife.org/wwfcmsprod/images/Amur_Leopard/priority_species/9pm2sqq1el_amur_leopard_87883936.jpg\"></div>\n",
       " <noscript>\n",
       " <img src=\"https://files.worldwildlife.org/wwfcmsprod/images/Amur_Leopard/priority_species/9pm2sqq1el_amur_leopard_87883936.jpg\"/>\n",
       " </noscript>\n",
       " </div>\n",
       " <span class=\"wwf name\">\n",
       " <b>\n",
       " \t\t\t\t\t\t\t\tAmur Leopard\n",
       "                 <svg aria-hidden=\"true\" class=\"svg-icon\" fill=\"none\" viewbox=\"0 0 24 24\" xmlns=\"http://www.w3.org/2000/svg\">\n",
       " <path d=\"M15.67 11.24L9.8 5.34A.98.98 0 009.03 5c-.3 0-.54.11-.74.33-.2.2-.29.45-.29.75s.1.55.3.78l5.12 5.16-5.13 5.16c-.2.2-.29.46-.29.78A1.01 1.01 0 009.03 19c.32 0 .58-.1.78-.3l5.86-5.9c.22-.22.33-.48.33-.78 0-.3-.11-.56-.33-.78z\"></path>\n",
       " </svg>\n",
       " </b>\n",
       " </span>\n",
       " </a> </figure>,\n",
       " <figure>\n",
       " <a data-track-event=\"Species Index|Species Mosaic Click|Orangutan\" href=\"/species/orangutan\">\n",
       " <div data-alt=\"\" data-picture=\"\">\n",
       " <div data-src=\"https://files.worldwildlife.org/wwfcmsprod/images/Sumatran_Orangutan_257636/priority_species_small/7eqcad31k8_MID_257636.jpg\"></div>\n",
       " <div data-media=\"(max-width: 767px)\" data-src=\"https://files.worldwildlife.org/wwfcmsprod/images/Sumatran_Orangutan_257636/priority_species/3z7qfwxd3q_MID_257636.jpg\"></div>\n",
       " <noscript>\n",
       " <img src=\"https://files.worldwildlife.org/wwfcmsprod/images/Sumatran_Orangutan_257636/priority_species/3z7qfwxd3q_MID_257636.jpg\"/>\n",
       " </noscript>\n",
       " </div>\n",
       " <span class=\"wwf name\">\n",
       " <b>\n",
       " \t\t\t\t\t\t\t\tOrangutan\n",
       "                 <svg aria-hidden=\"true\" class=\"svg-icon\" fill=\"none\" viewbox=\"0 0 24 24\" xmlns=\"http://www.w3.org/2000/svg\">\n",
       " <path d=\"M15.67 11.24L9.8 5.34A.98.98 0 009.03 5c-.3 0-.54.11-.74.33-.2.2-.29.45-.29.75s.1.55.3.78l5.12 5.16-5.13 5.16c-.2.2-.29.46-.29.78A1.01 1.01 0 009.03 19c.32 0 .58-.1.78-.3l5.86-5.9c.22-.22.33-.48.33-.78 0-.3-.11-.56-.33-.78z\"></path>\n",
       " </svg>\n",
       " </b>\n",
       " </span>\n",
       " </a> </figure>]"
      ]
     },
     "execution_count": 44,
     "metadata": {},
     "output_type": "execute_result"
    }
   ],
   "source": [
    "animal_span_tags[:5]"
   ]
  },
  {
   "cell_type": "code",
   "execution_count": 92,
   "id": "accf6dee",
   "metadata": {},
   "outputs": [
    {
     "data": {
      "text/plain": [
       "<figure>\n",
       "<a data-track-event=\"Species Index|Species Mosaic Click|Tiger\" href=\"/species/tiger\">\n",
       "<div data-alt=\"\" data-picture=\"\">\n",
       "<div data-src=\"https://files.worldwildlife.org/wwfcmsprod/images/tigers_priority_77221825.jpg/priority_species_vert/5jpzsruzta_tigers_priority_77221825.jpg\"></div>\n",
       "<div data-media=\"(max-width: 767px)\" data-src=\"https://files.worldwildlife.org/wwfcmsprod/images/tigers_priority_77221825.jpg/priority_species/2eu0hrmy8t_tigers_priority_77221825.jpg\"></div>\n",
       "<noscript>\n",
       "<img src=\"https://files.worldwildlife.org/wwfcmsprod/images/tigers_priority_77221825.jpg/priority_species/2eu0hrmy8t_tigers_priority_77221825.jpg\"/>\n",
       "</noscript>\n",
       "</div>\n",
       "<span class=\"wwf name\">\n",
       "<b>\n",
       "\t\t\t\t\t\t\t\tTiger\n",
       "                <svg aria-hidden=\"true\" class=\"svg-icon\" fill=\"none\" viewbox=\"0 0 24 24\" xmlns=\"http://www.w3.org/2000/svg\">\n",
       "<path d=\"M15.67 11.24L9.8 5.34A.98.98 0 009.03 5c-.3 0-.54.11-.74.33-.2.2-.29.45-.29.75s.1.55.3.78l5.12 5.16-5.13 5.16c-.2.2-.29.46-.29.78A1.01 1.01 0 009.03 19c.32 0 .58-.1.78-.3l5.86-5.9c.22-.22.33-.48.33-.78 0-.3-.11-.56-.33-.78z\"></path>\n",
       "</svg>\n",
       "</b>\n",
       "</span>\n",
       "</a> </figure>"
      ]
     },
     "execution_count": 92,
     "metadata": {},
     "output_type": "execute_result"
    }
   ],
   "source": [
    "animal_span_tags[0]"
   ]
  },
  {
   "cell_type": "code",
   "execution_count": 112,
   "id": "ef47d4eb",
   "metadata": {},
   "outputs": [],
   "source": [
    "animal_href_tags = doc.find_all('a', href = lambda L: L and L.startswith('/species'))"
   ]
  },
  {
   "cell_type": "code",
   "execution_count": 118,
   "id": "1778d47b",
   "metadata": {},
   "outputs": [
    {
     "data": {
      "text/plain": [
       "'/species/sea-turtle'"
      ]
     },
     "execution_count": 118,
     "metadata": {},
     "output_type": "execute_result"
    }
   ],
   "source": [
    "animal_href_tags[5]['href']"
   ]
  },
  {
   "cell_type": "code",
   "execution_count": 121,
   "id": "c9d1f7cb",
   "metadata": {},
   "outputs": [],
   "source": [
    "animal0_url = 'https://www.worldwildlife.org/' + animal_href_tags[0]['href']"
   ]
  },
  {
   "cell_type": "code",
   "execution_count": 122,
   "id": "36ce5945",
   "metadata": {},
   "outputs": [
    {
     "name": "stdout",
     "output_type": "stream",
     "text": [
      "https://www.worldwildlife.org//species/tiger\n"
     ]
    }
   ],
   "source": [
    "print(animal0_url)"
   ]
  },
  {
   "cell_type": "code",
   "execution_count": 124,
   "id": "0d036980",
   "metadata": {},
   "outputs": [
    {
     "ename": "SyntaxError",
     "evalue": "invalid syntax (Temp/ipykernel_23820/1353871680.py, line 1)",
     "output_type": "error",
     "traceback": [
      "\u001b[1;36m  File \u001b[1;32m\"C:\\Users\\Ankit\\AppData\\Local\\Temp/ipykernel_23820/1353871680.py\"\u001b[1;36m, line \u001b[1;32m1\u001b[0m\n\u001b[1;33m    animal_url_tags = for i in 1 to 15 animal_span_tags[i]['href']\u001b[0m\n\u001b[1;37m                      ^\u001b[0m\n\u001b[1;31mSyntaxError\u001b[0m\u001b[1;31m:\u001b[0m invalid syntax\n"
     ]
    }
   ],
   "source": [
    "animal_url_tags = for i in 1 to 15 animal_span_tags[i]['href']"
   ]
  },
  {
   "cell_type": "code",
   "execution_count": null,
   "id": "963b774d",
   "metadata": {},
   "outputs": [],
   "source": []
  }
 ],
 "metadata": {
  "kernelspec": {
   "display_name": "Python 3 (ipykernel)",
   "language": "python",
   "name": "python3"
  },
  "language_info": {
   "codemirror_mode": {
    "name": "ipython",
    "version": 3
   },
   "file_extension": ".py",
   "mimetype": "text/x-python",
   "name": "python",
   "nbconvert_exporter": "python",
   "pygments_lexer": "ipython3",
   "version": "3.9.7"
  }
 },
 "nbformat": 4,
 "nbformat_minor": 5
}
